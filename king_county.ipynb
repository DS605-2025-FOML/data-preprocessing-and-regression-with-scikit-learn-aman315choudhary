{
 "cells": [
  {
   "cell_type": "code",
   "execution_count": 1,
   "id": "2dc4a133",
   "metadata": {},
   "outputs": [],
   "source": [
    "import numpy as np\n",
    "import pandas as pd"
   ]
  },
  {
   "cell_type": "code",
   "execution_count": 11,
   "id": "3bde28ff",
   "metadata": {},
   "outputs": [
    {
     "name": "stdout",
     "output_type": "stream",
     "text": [
      "Collecting seaborn\n",
      "  Obtaining dependency information for seaborn from https://files.pythonhosted.org/packages/83/11/00d3c3dfc25ad54e731d91449895a79e4bf2384dc3ac01809010ba88f6d5/seaborn-0.13.2-py3-none-any.whl.metadata\n",
      "  Downloading seaborn-0.13.2-py3-none-any.whl.metadata (5.4 kB)\n",
      "Requirement already satisfied: numpy!=1.24.0,>=1.20 in c:\\users\\aman choudhary\\anaconda3\\envs\\my-aman\\lib\\site-packages (from seaborn) (1.25.2)\n",
      "Requirement already satisfied: pandas>=1.2 in c:\\users\\aman choudhary\\anaconda3\\envs\\my-aman\\lib\\site-packages (from seaborn) (2.1.0)\n",
      "Collecting matplotlib!=3.6.1,>=3.4 (from seaborn)\n",
      "  Obtaining dependency information for matplotlib!=3.6.1,>=3.4 from https://files.pythonhosted.org/packages/fc/8e/0a18d6d7d2d0a2e66585032a760d13662e5250c784d53ad50434e9560991/matplotlib-3.10.6-cp311-cp311-win_amd64.whl.metadata\n",
      "  Downloading matplotlib-3.10.6-cp311-cp311-win_amd64.whl.metadata (11 kB)\n",
      "Collecting contourpy>=1.0.1 (from matplotlib!=3.6.1,>=3.4->seaborn)\n",
      "  Obtaining dependency information for contourpy>=1.0.1 from https://files.pythonhosted.org/packages/98/4b/9bd370b004b5c9d8045c6c33cf65bae018b27aca550a3f657cdc99acdbd8/contourpy-1.3.3-cp311-cp311-win_amd64.whl.metadata\n",
      "  Downloading contourpy-1.3.3-cp311-cp311-win_amd64.whl.metadata (5.5 kB)\n",
      "Collecting cycler>=0.10 (from matplotlib!=3.6.1,>=3.4->seaborn)\n",
      "  Obtaining dependency information for cycler>=0.10 from https://files.pythonhosted.org/packages/e7/05/c19819d5e3d95294a6f5947fb9b9629efb316b96de511b418c53d245aae6/cycler-0.12.1-py3-none-any.whl.metadata\n",
      "  Downloading cycler-0.12.1-py3-none-any.whl.metadata (3.8 kB)\n",
      "Collecting fonttools>=4.22.0 (from matplotlib!=3.6.1,>=3.4->seaborn)\n",
      "  Obtaining dependency information for fonttools>=4.22.0 from https://files.pythonhosted.org/packages/d7/de/35d839aa69db737a3f9f3a45000ca24721834d40118652a5775d5eca8ebb/fonttools-4.59.2-cp311-cp311-win_amd64.whl.metadata\n",
      "  Downloading fonttools-4.59.2-cp311-cp311-win_amd64.whl.metadata (111 kB)\n",
      "     ---------------------------------------- 0.0/111.9 kB ? eta -:--:--\n",
      "     --------------------- ----------------- 61.4/111.9 kB 3.2 MB/s eta 0:00:01\n",
      "     -------------------------------------- 111.9/111.9 kB 1.6 MB/s eta 0:00:00\n",
      "Collecting kiwisolver>=1.3.1 (from matplotlib!=3.6.1,>=3.4->seaborn)\n",
      "  Obtaining dependency information for kiwisolver>=1.3.1 from https://files.pythonhosted.org/packages/3b/c6/f8df8509fd1eee6c622febe54384a96cfaf4d43bf2ccec7a0cc17e4715c9/kiwisolver-1.4.9-cp311-cp311-win_amd64.whl.metadata\n",
      "  Downloading kiwisolver-1.4.9-cp311-cp311-win_amd64.whl.metadata (6.4 kB)\n",
      "Requirement already satisfied: packaging>=20.0 in c:\\users\\aman choudhary\\anaconda3\\envs\\my-aman\\lib\\site-packages (from matplotlib!=3.6.1,>=3.4->seaborn) (23.1)\n",
      "Collecting pillow>=8 (from matplotlib!=3.6.1,>=3.4->seaborn)\n",
      "  Obtaining dependency information for pillow>=8 from https://files.pythonhosted.org/packages/f1/cc/29c0f5d64ab8eae20f3232da8f8571660aa0ab4b8f1331da5c2f5f9a938e/pillow-11.3.0-cp311-cp311-win_amd64.whl.metadata\n",
      "  Downloading pillow-11.3.0-cp311-cp311-win_amd64.whl.metadata (9.2 kB)\n",
      "Collecting pyparsing>=2.3.1 (from matplotlib!=3.6.1,>=3.4->seaborn)\n",
      "  Obtaining dependency information for pyparsing>=2.3.1 from https://files.pythonhosted.org/packages/05/e7/df2285f3d08fee213f2d041540fa4fc9ca6c2d44cf36d3a035bf2a8d2bcc/pyparsing-3.2.3-py3-none-any.whl.metadata\n",
      "  Downloading pyparsing-3.2.3-py3-none-any.whl.metadata (5.0 kB)\n",
      "Requirement already satisfied: python-dateutil>=2.7 in c:\\users\\aman choudhary\\anaconda3\\envs\\my-aman\\lib\\site-packages (from matplotlib!=3.6.1,>=3.4->seaborn) (2.8.2)\n",
      "Requirement already satisfied: pytz>=2020.1 in c:\\users\\aman choudhary\\anaconda3\\envs\\my-aman\\lib\\site-packages (from pandas>=1.2->seaborn) (2023.3.post1)\n",
      "Requirement already satisfied: tzdata>=2022.1 in c:\\users\\aman choudhary\\anaconda3\\envs\\my-aman\\lib\\site-packages (from pandas>=1.2->seaborn) (2023.3)\n",
      "Requirement already satisfied: six>=1.5 in c:\\users\\aman choudhary\\anaconda3\\envs\\my-aman\\lib\\site-packages (from python-dateutil>=2.7->matplotlib!=3.6.1,>=3.4->seaborn) (1.16.0)\n",
      "Downloading seaborn-0.13.2-py3-none-any.whl (294 kB)\n",
      "   ---------------------------------------- 0.0/294.9 kB ? eta -:--:--\n",
      "   ------------ --------------------------- 92.2/294.9 kB 1.7 MB/s eta 0:00:01\n",
      "   ----------------------- ---------------- 174.1/294.9 kB 1.7 MB/s eta 0:00:01\n",
      "   ---------------------------------- ----- 256.0/294.9 kB 1.7 MB/s eta 0:00:01\n",
      "   -------------------------------------- - 286.7/294.9 kB 1.8 MB/s eta 0:00:01\n",
      "   ---------------------------------------- 294.9/294.9 kB 1.4 MB/s eta 0:00:00\n",
      "Downloading matplotlib-3.10.6-cp311-cp311-win_amd64.whl (8.1 MB)\n",
      "   ---------------------------------------- 0.0/8.1 MB ? eta -:--:--\n",
      "    --------------------------------------- 0.1/8.1 MB 3.3 MB/s eta 0:00:03\n",
      "   - -------------------------------------- 0.2/8.1 MB 2.8 MB/s eta 0:00:03\n",
      "   - -------------------------------------- 0.3/8.1 MB 2.6 MB/s eta 0:00:03\n",
      "   -- ------------------------------------- 0.5/8.1 MB 2.6 MB/s eta 0:00:03\n",
      "   -- ------------------------------------- 0.6/8.1 MB 2.7 MB/s eta 0:00:03\n",
      "   --- ------------------------------------ 0.7/8.1 MB 2.7 MB/s eta 0:00:03\n",
      "   ---- ----------------------------------- 0.8/8.1 MB 2.8 MB/s eta 0:00:03\n",
      "   ----- ---------------------------------- 1.0/8.1 MB 2.9 MB/s eta 0:00:03\n",
      "   ----- ---------------------------------- 1.2/8.1 MB 2.9 MB/s eta 0:00:03\n",
      "   ------ --------------------------------- 1.4/8.1 MB 3.1 MB/s eta 0:00:03\n",
      "   ------- -------------------------------- 1.6/8.1 MB 3.2 MB/s eta 0:00:03\n",
      "   -------- ------------------------------- 1.7/8.1 MB 3.1 MB/s eta 0:00:03\n",
      "   --------- ------------------------------ 1.8/8.1 MB 3.2 MB/s eta 0:00:02\n",
      "   --------- ------------------------------ 2.0/8.1 MB 3.1 MB/s eta 0:00:02\n",
      "   ----------- ---------------------------- 2.3/8.1 MB 3.3 MB/s eta 0:00:02\n",
      "   ----------- ---------------------------- 2.4/8.1 MB 3.3 MB/s eta 0:00:02\n",
      "   ------------ --------------------------- 2.5/8.1 MB 3.2 MB/s eta 0:00:02\n",
      "   ------------- -------------------------- 2.7/8.1 MB 3.3 MB/s eta 0:00:02\n",
      "   -------------- ------------------------- 2.9/8.1 MB 3.3 MB/s eta 0:00:02\n",
      "   --------------- ------------------------ 3.2/8.1 MB 3.4 MB/s eta 0:00:02\n",
      "   ---------------- ----------------------- 3.4/8.1 MB 3.6 MB/s eta 0:00:02\n",
      "   ----------------- ---------------------- 3.6/8.1 MB 3.6 MB/s eta 0:00:02\n",
      "   ------------------ --------------------- 3.8/8.1 MB 3.6 MB/s eta 0:00:02\n",
      "   ------------------- -------------------- 4.0/8.1 MB 3.6 MB/s eta 0:00:02\n",
      "   --------------------- ------------------ 4.3/8.1 MB 3.7 MB/s eta 0:00:02\n",
      "   ---------------------- ----------------- 4.6/8.1 MB 3.8 MB/s eta 0:00:01\n",
      "   ----------------------- ---------------- 4.8/8.1 MB 3.9 MB/s eta 0:00:01\n",
      "   ------------------------ --------------- 5.1/8.1 MB 3.9 MB/s eta 0:00:01\n",
      "   ------------------------- -------------- 5.2/8.1 MB 3.9 MB/s eta 0:00:01\n",
      "   --------------------------- ------------ 5.6/8.1 MB 4.1 MB/s eta 0:00:01\n",
      "   ---------------------------- ----------- 5.9/8.1 MB 4.1 MB/s eta 0:00:01\n",
      "   ----------------------------- ---------- 6.1/8.1 MB 4.1 MB/s eta 0:00:01\n",
      "   ------------------------------- -------- 6.4/8.1 MB 4.2 MB/s eta 0:00:01\n",
      "   -------------------------------- ------- 6.7/8.1 MB 4.3 MB/s eta 0:00:01\n",
      "   ---------------------------------- ----- 6.9/8.1 MB 4.3 MB/s eta 0:00:01\n",
      "   ----------------------------------- ---- 7.1/8.1 MB 4.3 MB/s eta 0:00:01\n",
      "   ------------------------------------ --- 7.5/8.1 MB 4.4 MB/s eta 0:00:01\n",
      "   -------------------------------------- - 7.8/8.1 MB 4.4 MB/s eta 0:00:01\n",
      "   ---------------------------------------  8.0/8.1 MB 4.4 MB/s eta 0:00:01\n",
      "   ---------------------------------------  8.1/8.1 MB 4.4 MB/s eta 0:00:01\n",
      "   ---------------------------------------- 8.1/8.1 MB 4.3 MB/s eta 0:00:00\n",
      "Downloading contourpy-1.3.3-cp311-cp311-win_amd64.whl (225 kB)\n",
      "   ---------------------------------------- 0.0/225.2 kB ? eta -:--:--\n",
      "   -------------------------------------- - 215.0/225.2 kB 6.6 MB/s eta 0:00:01\n",
      "   ---------------------------------------- 225.2/225.2 kB 4.6 MB/s eta 0:00:00\n",
      "Downloading cycler-0.12.1-py3-none-any.whl (8.3 kB)\n",
      "Downloading fonttools-4.59.2-cp311-cp311-win_amd64.whl (2.3 MB)\n",
      "   ---------------------------------------- 0.0/2.3 MB ? eta -:--:--\n",
      "   ---- ----------------------------------- 0.2/2.3 MB 7.0 MB/s eta 0:00:01\n",
      "   --------- ------------------------------ 0.5/2.3 MB 6.6 MB/s eta 0:00:01\n",
      "   ------------- -------------------------- 0.8/2.3 MB 6.1 MB/s eta 0:00:01\n",
      "   ------------------ --------------------- 1.0/2.3 MB 6.0 MB/s eta 0:00:01\n",
      "   ---------------------- ----------------- 1.3/2.3 MB 5.9 MB/s eta 0:00:01\n",
      "   ---------------------------- ----------- 1.6/2.3 MB 5.9 MB/s eta 0:00:01\n",
      "   -------------------------------- ------- 1.8/2.3 MB 5.8 MB/s eta 0:00:01\n",
      "   ------------------------------------ --- 2.1/2.3 MB 6.0 MB/s eta 0:00:01\n",
      "   ---------------------------------------- 2.3/2.3 MB 5.5 MB/s eta 0:00:00\n",
      "Downloading kiwisolver-1.4.9-cp311-cp311-win_amd64.whl (73 kB)\n",
      "   ---------------------------------------- 0.0/73.8 kB ? eta -:--:--\n",
      "   ---------------------------------------- 73.8/73.8 kB 4.0 MB/s eta 0:00:00\n",
      "Downloading pillow-11.3.0-cp311-cp311-win_amd64.whl (7.0 MB)\n",
      "   ---------------------------------------- 0.0/7.0 MB ? eta -:--:--\n",
      "   - -------------------------------------- 0.2/7.0 MB 12.2 MB/s eta 0:00:01\n",
      "   -- ------------------------------------- 0.5/7.0 MB 6.0 MB/s eta 0:00:02\n",
      "   --- ------------------------------------ 0.5/7.0 MB 5.7 MB/s eta 0:00:02\n",
      "   ----- ---------------------------------- 1.0/7.0 MB 5.8 MB/s eta 0:00:02\n",
      "   ------- -------------------------------- 1.3/7.0 MB 5.9 MB/s eta 0:00:01\n",
      "   -------- ------------------------------- 1.6/7.0 MB 5.8 MB/s eta 0:00:01\n",
      "   ---------- ----------------------------- 1.8/7.0 MB 5.9 MB/s eta 0:00:01\n",
      "   ----------- ---------------------------- 2.0/7.0 MB 5.7 MB/s eta 0:00:01\n",
      "   ------------- -------------------------- 2.4/7.0 MB 5.8 MB/s eta 0:00:01\n",
      "   --------------- ------------------------ 2.6/7.0 MB 6.0 MB/s eta 0:00:01\n",
      "   ---------------- ----------------------- 2.9/7.0 MB 5.7 MB/s eta 0:00:01\n",
      "   ----------------- ---------------------- 3.1/7.0 MB 5.9 MB/s eta 0:00:01\n",
      "   ------------------- -------------------- 3.4/7.0 MB 5.9 MB/s eta 0:00:01\n",
      "   --------------------- ------------------ 3.7/7.0 MB 5.9 MB/s eta 0:00:01\n",
      "   ---------------------- ----------------- 4.0/7.0 MB 5.9 MB/s eta 0:00:01\n",
      "   ------------------------ --------------- 4.2/7.0 MB 5.9 MB/s eta 0:00:01\n",
      "   ------------------------- -------------- 4.5/7.0 MB 5.9 MB/s eta 0:00:01\n",
      "   --------------------------- ------------ 4.7/7.0 MB 5.8 MB/s eta 0:00:01\n",
      "   ---------------------------- ----------- 5.0/7.0 MB 5.8 MB/s eta 0:00:01\n",
      "   ----------------------------- ---------- 5.2/7.0 MB 5.7 MB/s eta 0:00:01\n",
      "   ------------------------------ --------- 5.4/7.0 MB 5.7 MB/s eta 0:00:01\n",
      "   -------------------------------- ------- 5.6/7.0 MB 5.6 MB/s eta 0:00:01\n",
      "   --------------------------------- ------ 5.8/7.0 MB 5.6 MB/s eta 0:00:01\n",
      "   ---------------------------------- ----- 6.0/7.0 MB 5.5 MB/s eta 0:00:01\n",
      "   ----------------------------------- ---- 6.3/7.0 MB 5.5 MB/s eta 0:00:01\n",
      "   ------------------------------------- -- 6.5/7.0 MB 5.5 MB/s eta 0:00:01\n",
      "   ------------------------------------- -- 6.6/7.0 MB 5.4 MB/s eta 0:00:01\n",
      "   ---------------------------------------  6.9/7.0 MB 5.4 MB/s eta 0:00:01\n",
      "   ---------------------------------------  7.0/7.0 MB 5.4 MB/s eta 0:00:01\n",
      "   ---------------------------------------- 7.0/7.0 MB 5.1 MB/s eta 0:00:00\n",
      "Downloading pyparsing-3.2.3-py3-none-any.whl (111 kB)\n",
      "   ---------------------------------------- 0.0/111.1 kB ? eta -:--:--\n",
      "   ---------------------------------------- 111.1/111.1 kB 6.3 MB/s eta 0:00:00\n",
      "Installing collected packages: pyparsing, pillow, kiwisolver, fonttools, cycler, contourpy, matplotlib, seaborn\n",
      "Successfully installed contourpy-1.3.3 cycler-0.12.1 fonttools-4.59.2 kiwisolver-1.4.9 matplotlib-3.10.6 pillow-11.3.0 pyparsing-3.2.3 seaborn-0.13.2\n",
      "Note: you may need to restart the kernel to use updated packages.\n"
     ]
    }
   ],
   "source": [
    "pip install seaborn"
   ]
  },
  {
   "cell_type": "code",
   "execution_count": 12,
   "id": "2d02eba2",
   "metadata": {},
   "outputs": [],
   "source": [
    "import seaborn as sns"
   ]
  },
  {
   "cell_type": "code",
   "execution_count": 14,
   "id": "2e2340eb",
   "metadata": {},
   "outputs": [
    {
     "name": "stdout",
     "output_type": "stream",
     "text": [
      "Requirement already satisfied: matplotlib in c:\\users\\aman choudhary\\anaconda3\\envs\\my-aman\\lib\\site-packages (3.10.6)\n",
      "Requirement already satisfied: contourpy>=1.0.1 in c:\\users\\aman choudhary\\anaconda3\\envs\\my-aman\\lib\\site-packages (from matplotlib) (1.3.3)\n",
      "Requirement already satisfied: cycler>=0.10 in c:\\users\\aman choudhary\\anaconda3\\envs\\my-aman\\lib\\site-packages (from matplotlib) (0.12.1)\n",
      "Requirement already satisfied: fonttools>=4.22.0 in c:\\users\\aman choudhary\\anaconda3\\envs\\my-aman\\lib\\site-packages (from matplotlib) (4.59.2)\n",
      "Requirement already satisfied: kiwisolver>=1.3.1 in c:\\users\\aman choudhary\\anaconda3\\envs\\my-aman\\lib\\site-packages (from matplotlib) (1.4.9)\n",
      "Requirement already satisfied: numpy>=1.23 in c:\\users\\aman choudhary\\anaconda3\\envs\\my-aman\\lib\\site-packages (from matplotlib) (1.25.2)\n",
      "Requirement already satisfied: packaging>=20.0 in c:\\users\\aman choudhary\\anaconda3\\envs\\my-aman\\lib\\site-packages (from matplotlib) (23.1)\n",
      "Requirement already satisfied: pillow>=8 in c:\\users\\aman choudhary\\anaconda3\\envs\\my-aman\\lib\\site-packages (from matplotlib) (11.3.0)\n",
      "Requirement already satisfied: pyparsing>=2.3.1 in c:\\users\\aman choudhary\\anaconda3\\envs\\my-aman\\lib\\site-packages (from matplotlib) (3.2.3)\n",
      "Requirement already satisfied: python-dateutil>=2.7 in c:\\users\\aman choudhary\\anaconda3\\envs\\my-aman\\lib\\site-packages (from matplotlib) (2.8.2)\n",
      "Requirement already satisfied: six>=1.5 in c:\\users\\aman choudhary\\anaconda3\\envs\\my-aman\\lib\\site-packages (from python-dateutil>=2.7->matplotlib) (1.16.0)\n",
      "Note: you may need to restart the kernel to use updated packages.\n"
     ]
    }
   ],
   "source": [
    "pip install matplotlib"
   ]
  },
  {
   "cell_type": "code",
   "execution_count": 15,
   "id": "842c0efb",
   "metadata": {},
   "outputs": [],
   "source": [
    "import matplotlib.pyplot as plt"
   ]
  },
  {
   "cell_type": "code",
   "execution_count": 16,
   "id": "df838ce5",
   "metadata": {},
   "outputs": [],
   "source": [
    "pd.set_option('display.float_format', lambda x: f'{x:,.3f}')"
   ]
  },
  {
   "cell_type": "markdown",
   "id": "860ac37c",
   "metadata": {},
   "source": [
    "Task 1: Advanced Exploratory Data Analysis (EDA) & Feature Engineering"
   ]
  },
  {
   "cell_type": "code",
   "execution_count": 17,
   "id": "8e1b98e3",
   "metadata": {},
   "outputs": [],
   "source": [
    "df = pd.read_csv('kc_house_data.csv')"
   ]
  },
  {
   "cell_type": "code",
   "execution_count": 18,
   "id": "cc9ecd1c",
   "metadata": {},
   "outputs": [
    {
     "data": {
      "text/html": [
       "<div>\n",
       "<style scoped>\n",
       "    .dataframe tbody tr th:only-of-type {\n",
       "        vertical-align: middle;\n",
       "    }\n",
       "\n",
       "    .dataframe tbody tr th {\n",
       "        vertical-align: top;\n",
       "    }\n",
       "\n",
       "    .dataframe thead th {\n",
       "        text-align: right;\n",
       "    }\n",
       "</style>\n",
       "<table border=\"1\" class=\"dataframe\">\n",
       "  <thead>\n",
       "    <tr style=\"text-align: right;\">\n",
       "      <th></th>\n",
       "      <th>id</th>\n",
       "      <th>date</th>\n",
       "      <th>price</th>\n",
       "      <th>bedrooms</th>\n",
       "      <th>bathrooms</th>\n",
       "      <th>sqft_living</th>\n",
       "      <th>sqft_lot</th>\n",
       "      <th>floors</th>\n",
       "      <th>waterfront</th>\n",
       "      <th>view</th>\n",
       "      <th>...</th>\n",
       "      <th>grade</th>\n",
       "      <th>sqft_above</th>\n",
       "      <th>sqft_basement</th>\n",
       "      <th>yr_built</th>\n",
       "      <th>yr_renovated</th>\n",
       "      <th>zipcode</th>\n",
       "      <th>lat</th>\n",
       "      <th>long</th>\n",
       "      <th>sqft_living15</th>\n",
       "      <th>sqft_lot15</th>\n",
       "    </tr>\n",
       "  </thead>\n",
       "  <tbody>\n",
       "    <tr>\n",
       "      <th>0</th>\n",
       "      <td>7129300520</td>\n",
       "      <td>20141013T000000</td>\n",
       "      <td>221,900.000</td>\n",
       "      <td>3</td>\n",
       "      <td>1.000</td>\n",
       "      <td>1180</td>\n",
       "      <td>5650</td>\n",
       "      <td>1.000</td>\n",
       "      <td>0</td>\n",
       "      <td>0</td>\n",
       "      <td>...</td>\n",
       "      <td>7</td>\n",
       "      <td>1180</td>\n",
       "      <td>0</td>\n",
       "      <td>1955</td>\n",
       "      <td>0</td>\n",
       "      <td>98178</td>\n",
       "      <td>47.511</td>\n",
       "      <td>-122.257</td>\n",
       "      <td>1340</td>\n",
       "      <td>5650</td>\n",
       "    </tr>\n",
       "    <tr>\n",
       "      <th>1</th>\n",
       "      <td>6414100192</td>\n",
       "      <td>20141209T000000</td>\n",
       "      <td>538,000.000</td>\n",
       "      <td>3</td>\n",
       "      <td>2.250</td>\n",
       "      <td>2570</td>\n",
       "      <td>7242</td>\n",
       "      <td>2.000</td>\n",
       "      <td>0</td>\n",
       "      <td>0</td>\n",
       "      <td>...</td>\n",
       "      <td>7</td>\n",
       "      <td>2170</td>\n",
       "      <td>400</td>\n",
       "      <td>1951</td>\n",
       "      <td>1991</td>\n",
       "      <td>98125</td>\n",
       "      <td>47.721</td>\n",
       "      <td>-122.319</td>\n",
       "      <td>1690</td>\n",
       "      <td>7639</td>\n",
       "    </tr>\n",
       "    <tr>\n",
       "      <th>2</th>\n",
       "      <td>5631500400</td>\n",
       "      <td>20150225T000000</td>\n",
       "      <td>180,000.000</td>\n",
       "      <td>2</td>\n",
       "      <td>1.000</td>\n",
       "      <td>770</td>\n",
       "      <td>10000</td>\n",
       "      <td>1.000</td>\n",
       "      <td>0</td>\n",
       "      <td>0</td>\n",
       "      <td>...</td>\n",
       "      <td>6</td>\n",
       "      <td>770</td>\n",
       "      <td>0</td>\n",
       "      <td>1933</td>\n",
       "      <td>0</td>\n",
       "      <td>98028</td>\n",
       "      <td>47.738</td>\n",
       "      <td>-122.233</td>\n",
       "      <td>2720</td>\n",
       "      <td>8062</td>\n",
       "    </tr>\n",
       "    <tr>\n",
       "      <th>3</th>\n",
       "      <td>2487200875</td>\n",
       "      <td>20141209T000000</td>\n",
       "      <td>604,000.000</td>\n",
       "      <td>4</td>\n",
       "      <td>3.000</td>\n",
       "      <td>1960</td>\n",
       "      <td>5000</td>\n",
       "      <td>1.000</td>\n",
       "      <td>0</td>\n",
       "      <td>0</td>\n",
       "      <td>...</td>\n",
       "      <td>7</td>\n",
       "      <td>1050</td>\n",
       "      <td>910</td>\n",
       "      <td>1965</td>\n",
       "      <td>0</td>\n",
       "      <td>98136</td>\n",
       "      <td>47.521</td>\n",
       "      <td>-122.393</td>\n",
       "      <td>1360</td>\n",
       "      <td>5000</td>\n",
       "    </tr>\n",
       "    <tr>\n",
       "      <th>4</th>\n",
       "      <td>1954400510</td>\n",
       "      <td>20150218T000000</td>\n",
       "      <td>510,000.000</td>\n",
       "      <td>3</td>\n",
       "      <td>2.000</td>\n",
       "      <td>1680</td>\n",
       "      <td>8080</td>\n",
       "      <td>1.000</td>\n",
       "      <td>0</td>\n",
       "      <td>0</td>\n",
       "      <td>...</td>\n",
       "      <td>8</td>\n",
       "      <td>1680</td>\n",
       "      <td>0</td>\n",
       "      <td>1987</td>\n",
       "      <td>0</td>\n",
       "      <td>98074</td>\n",
       "      <td>47.617</td>\n",
       "      <td>-122.045</td>\n",
       "      <td>1800</td>\n",
       "      <td>7503</td>\n",
       "    </tr>\n",
       "  </tbody>\n",
       "</table>\n",
       "<p>5 rows × 21 columns</p>\n",
       "</div>"
      ],
      "text/plain": [
       "           id             date       price  bedrooms  bathrooms  sqft_living  \\\n",
       "0  7129300520  20141013T000000 221,900.000         3      1.000         1180   \n",
       "1  6414100192  20141209T000000 538,000.000         3      2.250         2570   \n",
       "2  5631500400  20150225T000000 180,000.000         2      1.000          770   \n",
       "3  2487200875  20141209T000000 604,000.000         4      3.000         1960   \n",
       "4  1954400510  20150218T000000 510,000.000         3      2.000         1680   \n",
       "\n",
       "   sqft_lot  floors  waterfront  view  ...  grade  sqft_above  sqft_basement  \\\n",
       "0      5650   1.000           0     0  ...      7        1180              0   \n",
       "1      7242   2.000           0     0  ...      7        2170            400   \n",
       "2     10000   1.000           0     0  ...      6         770              0   \n",
       "3      5000   1.000           0     0  ...      7        1050            910   \n",
       "4      8080   1.000           0     0  ...      8        1680              0   \n",
       "\n",
       "   yr_built  yr_renovated  zipcode    lat     long  sqft_living15  sqft_lot15  \n",
       "0      1955             0    98178 47.511 -122.257           1340        5650  \n",
       "1      1951          1991    98125 47.721 -122.319           1690        7639  \n",
       "2      1933             0    98028 47.738 -122.233           2720        8062  \n",
       "3      1965             0    98136 47.521 -122.393           1360        5000  \n",
       "4      1987             0    98074 47.617 -122.045           1800        7503  \n",
       "\n",
       "[5 rows x 21 columns]"
      ]
     },
     "execution_count": 18,
     "metadata": {},
     "output_type": "execute_result"
    }
   ],
   "source": [
    "df.head()"
   ]
  },
  {
   "cell_type": "code",
   "execution_count": 19,
   "id": "ce23ca71",
   "metadata": {},
   "outputs": [
    {
     "data": {
      "text/plain": [
       "(21613, 21)"
      ]
     },
     "execution_count": 19,
     "metadata": {},
     "output_type": "execute_result"
    }
   ],
   "source": [
    "df.shape"
   ]
  },
  {
   "cell_type": "code",
   "execution_count": 20,
   "id": "883f0656",
   "metadata": {},
   "outputs": [],
   "source": [
    "# Introduce ~5% missing values into 'sqft_lot' and 'bathrooms'\n",
    "np.random.seed(42)  # for reproducibility\n",
    "for col in ['sqft_lot', 'bathrooms']:\n",
    "    missing_indices = df.sample(frac=0.05, random_state=np.random.randint(0, 1000)).index\n",
    "    df.loc[missing_indices, col] = np.nan"
   ]
  },
  {
   "cell_type": "code",
   "execution_count": 21,
   "id": "01d1e930",
   "metadata": {},
   "outputs": [
    {
     "name": "stdout",
     "output_type": "stream",
     "text": [
      "sqft_lot     1081\n",
      "bathrooms    1081\n",
      "dtype: int64\n"
     ]
    }
   ],
   "source": [
    "print(df[['sqft_lot', 'bathrooms']].isnull().sum())"
   ]
  },
  {
   "cell_type": "markdown",
   "id": "5b192340",
   "metadata": {},
   "source": [
    "Outlier Detection and Handling"
   ]
  },
  {
   "cell_type": "code",
   "execution_count": 22,
   "id": "fe15ccdf",
   "metadata": {},
   "outputs": [
    {
     "data": {
      "image/png": "[encoded data removed]",
      "text/plain": [
       "<Figure size 1800x600 with 3 Axes>"
      ]
     },
     "metadata": {},
     "output_type": "display_data"
    }
   ],
   "source": [
    "fig, axes = plt.subplots(1, 3, figsize=(18, 6))\n",
    "\n",
    "sns.boxplot(y=df['price'], ax=axes[0])\n",
    "axes[0].set_title(\"Boxplot of Price\")\n",
    "\n",
    "sns.boxplot(y=df['sqft_living'], ax=axes[1])\n",
    "axes[1].set_title(\"Boxplot of Sqft Living\")\n",
    "\n",
    "sns.boxplot(y=df['bedrooms'], ax=axes[2])\n",
    "axes[2].set_title(\"Boxplot of Bedrooms\")\n",
    "\n",
    "plt.tight_layout()\n",
    "plt.show()"
   ]
  },
  {
   "cell_type": "code",
   "execution_count": 23,
   "id": "f18d6395",
   "metadata": {},
   "outputs": [
    {
     "name": "stdout",
     "output_type": "stream",
     "text": [
      "price: removed 1146 outliers\n",
      "sqft_living: removed 320 outliers\n",
      "bedrooms: removed 460 outliers\n",
      "Shape before: (21613, 21)\n",
      "Shape after: (19687, 21)\n"
     ]
    }
   ],
   "source": [
    "def remove_outliers_iqr(data, column):\n",
    "    Q1 = data[column].quantile(0.25)\n",
    "    Q3 = data[column].quantile(0.75)\n",
    "    IQR = Q3 - Q1\n",
    "    lower = Q1 - 1.5 * IQR\n",
    "    upper = Q3 + 1.5 * IQR\n",
    "    before = data.shape[0]\n",
    "    data = data[(data[column] >= lower) & (data[column] <= upper)]\n",
    "    after = data.shape[0]\n",
    "    print(f\"{column}: removed {before - after} outliers\")\n",
    "    return data\n",
    "\n",
    "\n",
    "df_clean = df.copy()\n",
    "for col in ['price', 'sqft_living', 'bedrooms']:\n",
    "    df_clean = remove_outliers_iqr(df_clean, col)\n",
    "\n",
    "print(\"Shape before:\", df.shape)\n",
    "print(\"Shape after:\", df_clean.shape)\n"
   ]
  },
  {
   "cell_type": "code",
   "execution_count": 25,
   "id": "9ca9f760",
   "metadata": {},
   "outputs": [
    {
     "data": {
      "image/png": "[encoded data removed]",
      "text/plain": [
       "<Figure size 1800x600 with 3 Axes>"
      ]
     },
     "metadata": {},
     "output_type": "display_data"
    }
   ],
   "source": [
    "fig, axes = plt.subplots(1, 3, figsize=(18, 6))\n",
    "\n",
    "sns.boxplot(y=df_clean['price'], ax=axes[0])\n",
    "axes[0].set_title(\"Boxplot of Price\")\n",
    "\n",
    "sns.boxplot(y=df_clean['sqft_living'], ax=axes[1])\n",
    "axes[1].set_title(\"Boxplot of Sqft Living\")\n",
    "\n",
    "sns.boxplot(y=df_clean['bedrooms'], ax=axes[2])\n",
    "axes[2].set_title(\"Boxplot of Bedrooms\")\n",
    "\n",
    "plt.tight_layout()\n",
    "plt.show()"
   ]
  },
  {
   "cell_type": "markdown",
   "id": "ad807fb0",
   "metadata": {},
   "source": [
    "Advanced Feature Engineering"
   ]
  },
  {
   "cell_type": "code",
   "execution_count": 26,
   "id": "094555b2",
   "metadata": {},
   "outputs": [],
   "source": [
    "#DATE BASED FEATURE\n",
    "df_clean['date'] = pd.to_datetime(df_clean['date'], errors='coerce')\n",
    "df_clean['sale_year'] = df_clean['date'].dt.year\n",
    "df_clean['sale_month'] = df_clean['date'].dt.month\n",
    "df_clean['house_age'] = df_clean['sale_year'] - df_clean['yr_built']"
   ]
  },
  {
   "cell_type": "code",
   "execution_count": 45,
   "id": "34da24a9",
   "metadata": {},
   "outputs": [],
   "source": [
    "#Renovation Features\n",
    "df_clean['was_renovated'] = (df_clean['yr_renovated'].fillna(0) > 0).astype(int)\n",
    "df_clean['age_since_renovation'] = np.where(\n",
    "    df_clean['was_renovated'] == 1,\n",
    "    (df_clean['sale_year'] - df_clean['yr_renovated']).clip(lower=0),\n",
    "    df_clean['house_age']\n",
    ")"
   ]
  },
  {
   "cell_type": "code",
   "execution_count": 42,
   "id": "85f7bb84",
   "metadata": {},
   "outputs": [],
   "source": [
    "#Ratio Features\n",
    "df_clean['sqft_living_per_floor'] = df_clean['sqft_living'] / df_clean['floors'].replace(0, np.nan)\n",
    "df_clean['bath_per_bed'] = df_clean['bathrooms'] / df_clean['bedrooms'].replace(0, np.nan)\n",
    "df_clean['lot_to_living'] = df_clean['sqft_lot'] / df_clean['sqft_living'].replace(0, np.nan)\n",
    "\n"
   ]
  },
  {
   "cell_type": "code",
   "execution_count": 46,
   "id": "ed29491f",
   "metadata": {},
   "outputs": [
    {
     "data": {
      "text/html": [
       "<div>\n",
       "<style scoped>\n",
       "    .dataframe tbody tr th:only-of-type {\n",
       "        vertical-align: middle;\n",
       "    }\n",
       "\n",
       "    .dataframe tbody tr th {\n",
       "        vertical-align: top;\n",
       "    }\n",
       "\n",
       "    .dataframe thead th {\n",
       "        text-align: right;\n",
       "    }\n",
       "</style>\n",
       "<table border=\"1\" class=\"dataframe\">\n",
       "  <thead>\n",
       "    <tr style=\"text-align: right;\">\n",
       "      <th></th>\n",
       "      <th>date</th>\n",
       "      <th>sale_year</th>\n",
       "      <th>sale_month</th>\n",
       "      <th>house_age</th>\n",
       "      <th>was_renovated</th>\n",
       "      <th>age_since_renovation</th>\n",
       "      <th>sqft_living_per_floor</th>\n",
       "      <th>bath_per_bed</th>\n",
       "    </tr>\n",
       "  </thead>\n",
       "  <tbody>\n",
       "    <tr>\n",
       "      <th>0</th>\n",
       "      <td>2014-10-13</td>\n",
       "      <td>2014</td>\n",
       "      <td>10</td>\n",
       "      <td>59</td>\n",
       "      <td>0</td>\n",
       "      <td>59</td>\n",
       "      <td>1,180.000</td>\n",
       "      <td>0.333</td>\n",
       "    </tr>\n",
       "    <tr>\n",
       "      <th>1</th>\n",
       "      <td>2014-12-09</td>\n",
       "      <td>2014</td>\n",
       "      <td>12</td>\n",
       "      <td>63</td>\n",
       "      <td>1</td>\n",
       "      <td>23</td>\n",
       "      <td>1,285.000</td>\n",
       "      <td>0.750</td>\n",
       "    </tr>\n",
       "    <tr>\n",
       "      <th>2</th>\n",
       "      <td>2015-02-25</td>\n",
       "      <td>2015</td>\n",
       "      <td>2</td>\n",
       "      <td>82</td>\n",
       "      <td>0</td>\n",
       "      <td>82</td>\n",
       "      <td>770.000</td>\n",
       "      <td>0.500</td>\n",
       "    </tr>\n",
       "    <tr>\n",
       "      <th>3</th>\n",
       "      <td>2014-12-09</td>\n",
       "      <td>2014</td>\n",
       "      <td>12</td>\n",
       "      <td>49</td>\n",
       "      <td>0</td>\n",
       "      <td>49</td>\n",
       "      <td>1,960.000</td>\n",
       "      <td>0.750</td>\n",
       "    </tr>\n",
       "    <tr>\n",
       "      <th>4</th>\n",
       "      <td>2015-02-18</td>\n",
       "      <td>2015</td>\n",
       "      <td>2</td>\n",
       "      <td>28</td>\n",
       "      <td>0</td>\n",
       "      <td>28</td>\n",
       "      <td>1,680.000</td>\n",
       "      <td>0.667</td>\n",
       "    </tr>\n",
       "  </tbody>\n",
       "</table>\n",
       "</div>"
      ],
      "text/plain": [
       "        date  sale_year  sale_month  house_age  was_renovated  \\\n",
       "0 2014-10-13       2014          10         59              0   \n",
       "1 2014-12-09       2014          12         63              1   \n",
       "2 2015-02-25       2015           2         82              0   \n",
       "3 2014-12-09       2014          12         49              0   \n",
       "4 2015-02-18       2015           2         28              0   \n",
       "\n",
       "   age_since_renovation  sqft_living_per_floor  bath_per_bed  \n",
       "0                    59              1,180.000         0.333  \n",
       "1                    23              1,285.000         0.750  \n",
       "2                    82                770.000         0.500  \n",
       "3                    49              1,960.000         0.750  \n",
       "4                    28              1,680.000         0.667  "
      ]
     },
     "execution_count": 46,
     "metadata": {},
     "output_type": "execute_result"
    }
   ],
   "source": [
    "df_clean[['date', 'sale_year', 'sale_month', 'house_age','was_renovated', 'age_since_renovation','sqft_living_per_floor', 'bath_per_bed']].head()"
   ]
  },
  {
   "cell_type": "markdown",
   "id": "a047e5ef",
   "metadata": {},
   "source": [
    "Task 2: Build a Sophisticated Preprocessing Pipeline"
   ]
  },
  {
   "cell_type": "markdown",
   "id": "9067a163",
   "metadata": {},
   "source": [
    "Identify feature types after feature engineering"
   ]
  },
  {
   "cell_type": "code",
   "execution_count": 31,
   "id": "2e4fd263",
   "metadata": {},
   "outputs": [
    {
     "name": "stdout",
     "output_type": "stream",
     "text": [
      "Numerical Features: ['sqft_living', 'sqft_lot', 'bathrooms', 'house_age', 'age_since_renovation', 'sqft_living_per_floor', 'bath_per_bed']\n",
      "Categorical Features: ['zipcode', 'sale_month']\n",
      "Passthrough Features: ['bedrooms', 'floors', 'waterfront', 'view', 'condition', 'grade', 'was_renovated', 'sale_year']\n"
     ]
    }
   ],
   "source": [
    "\n",
    "# Numerical features: continuous variables that need imputation + scaling\n",
    "numerical_features = [\n",
    "    \"sqft_living\",\n",
    "    \"sqft_lot\",\n",
    "    \"bathrooms\",\n",
    "    \"house_age\",\n",
    "    \"age_since_renovation\",\n",
    "    \"sqft_living_per_floor\",\n",
    "    \"bath_per_bed\"\n",
    "]\n",
    "\n",
    "# Categorical features: should be treated as categories (not numbers)\n",
    "categorical_features = [\n",
    "    \"zipcode\",\n",
    "    \"sale_month\"\n",
    "]\n",
    "\n",
    "# Passthrough features: useful, but don’t need scaling or encoding\n",
    "passthrough_features = [\n",
    "    \"bedrooms\",\n",
    "    \"floors\",\n",
    "    \"waterfront\",\n",
    "    \"view\",\n",
    "    \"condition\",\n",
    "    \"grade\",\n",
    "    \"was_renovated\",\n",
    "    \"sale_year\"\n",
    "]\n",
    "\n",
    "print(\"Numerical Features:\", numerical_features)\n",
    "print(\"Categorical Features:\", categorical_features)\n",
    "print(\"Passthrough Features:\", passthrough_features)\n"
   ]
  },
  {
   "cell_type": "markdown",
   "id": "656f53a9",
   "metadata": {},
   "source": [
    "Create Preprocessing Pipelines for Each Type"
   ]
  },
  {
   "cell_type": "code",
   "execution_count": 35,
   "id": "89bab701",
   "metadata": {},
   "outputs": [
    {
     "name": "stdout",
     "output_type": "stream",
     "text": [
      "Collecting scikit-learn\n",
      "  Obtaining dependency information for scikit-learn from https://files.pythonhosted.org/packages/b2/3b/47b5eaee01ef2b5a80ba3f7f6ecf79587cb458690857d4777bfd77371c6f/scikit_learn-1.7.1-cp311-cp311-win_amd64.whl.metadata\n",
      "  Downloading scikit_learn-1.7.1-cp311-cp311-win_amd64.whl.metadata (11 kB)\n",
      "Requirement already satisfied: ipykernel in c:\\users\\aman choudhary\\anaconda3\\envs\\my-aman\\lib\\site-packages (6.25.0)\n",
      "Requirement already satisfied: numpy>=1.22.0 in c:\\users\\aman choudhary\\anaconda3\\envs\\my-aman\\lib\\site-packages (from scikit-learn) (1.25.2)\n",
      "Collecting scipy>=1.8.0 (from scikit-learn)\n",
      "  Obtaining dependency information for scipy>=1.8.0 from https://files.pythonhosted.org/packages/c4/94/994369978509f227cba7dfb9e623254d0d5559506fe994aef4bea3ed469c/scipy-1.16.1-cp311-cp311-win_amd64.whl.metadata\n",
      "  Downloading scipy-1.16.1-cp311-cp311-win_amd64.whl.metadata (60 kB)\n",
      "     ---------------------------------------- 0.0/60.8 kB ? eta -:--:--\n",
      "     ---------------------------------------- 60.8/60.8 kB 1.6 MB/s eta 0:00:00\n",
      "Collecting joblib>=1.2.0 (from scikit-learn)\n",
      "  Obtaining dependency information for joblib>=1.2.0 from https://files.pythonhosted.org/packages/1e/e8/685f47e0d754320684db4425a0967f7d3fa70126bffd76110b7009a0090f/joblib-1.5.2-py3-none-any.whl.metadata\n",
      "  Downloading joblib-1.5.2-py3-none-any.whl.metadata (5.6 kB)\n",
      "Collecting threadpoolctl>=3.1.0 (from scikit-learn)\n",
      "  Obtaining dependency information for threadpoolctl>=3.1.0 from https://files.pythonhosted.org/packages/32/d5/f9a850d79b0851d1d4ef6456097579a9005b31fea68726a4ae5f2d82ddd9/threadpoolctl-3.6.0-py3-none-any.whl.metadata\n",
      "  Downloading threadpoolctl-3.6.0-py3-none-any.whl.metadata (13 kB)\n",
      "Requirement already satisfied: comm>=0.1.1 in c:\\users\\aman choudhary\\anaconda3\\envs\\my-aman\\lib\\site-packages (from ipykernel) (0.1.2)\n",
      "Requirement already satisfied: debugpy>=1.6.5 in c:\\users\\aman choudhary\\anaconda3\\envs\\my-aman\\lib\\site-packages (from ipykernel) (1.6.7)\n",
      "Requirement already satisfied: ipython>=7.23.1 in c:\\users\\aman choudhary\\anaconda3\\envs\\my-aman\\lib\\site-packages (from ipykernel) (8.15.0)\n",
      "Requirement already satisfied: jupyter-client>=6.1.12 in c:\\users\\aman choudhary\\anaconda3\\envs\\my-aman\\lib\\site-packages (from ipykernel) (7.4.9)\n",
      "Requirement already satisfied: jupyter-core!=5.0.*,>=4.12 in c:\\users\\aman choudhary\\anaconda3\\envs\\my-aman\\lib\\site-packages (from ipykernel) (5.3.0)\n",
      "Requirement already satisfied: matplotlib-inline>=0.1 in c:\\users\\aman choudhary\\anaconda3\\envs\\my-aman\\lib\\site-packages (from ipykernel) (0.1.6)\n",
      "Requirement already satisfied: nest-asyncio in c:\\users\\aman choudhary\\anaconda3\\envs\\my-aman\\lib\\site-packages (from ipykernel) (1.5.6)\n",
      "Requirement already satisfied: packaging in c:\\users\\aman choudhary\\anaconda3\\envs\\my-aman\\lib\\site-packages (from ipykernel) (23.1)\n",
      "Requirement already satisfied: psutil in c:\\users\\aman choudhary\\anaconda3\\envs\\my-aman\\lib\\site-packages (from ipykernel) (5.9.0)\n",
      "Requirement already satisfied: pyzmq>=20 in c:\\users\\aman choudhary\\anaconda3\\envs\\my-aman\\lib\\site-packages (from ipykernel) (23.2.0)\n",
      "Requirement already satisfied: tornado>=6.1 in c:\\users\\aman choudhary\\anaconda3\\envs\\my-aman\\lib\\site-packages (from ipykernel) (6.3.2)\n",
      "Requirement already satisfied: traitlets>=5.4.0 in c:\\users\\aman choudhary\\anaconda3\\envs\\my-aman\\lib\\site-packages (from ipykernel) (5.7.1)\n",
      "Requirement already satisfied: backcall in c:\\users\\aman choudhary\\anaconda3\\envs\\my-aman\\lib\\site-packages (from ipython>=7.23.1->ipykernel) (0.2.0)\n",
      "Requirement already satisfied: decorator in c:\\users\\aman choudhary\\anaconda3\\envs\\my-aman\\lib\\site-packages (from ipython>=7.23.1->ipykernel) (5.1.1)\n",
      "Requirement already satisfied: jedi>=0.16 in c:\\users\\aman choudhary\\anaconda3\\envs\\my-aman\\lib\\site-packages (from ipython>=7.23.1->ipykernel) (0.18.1)\n",
      "Requirement already satisfied: pickleshare in c:\\users\\aman choudhary\\anaconda3\\envs\\my-aman\\lib\\site-packages (from ipython>=7.23.1->ipykernel) (0.7.5)\n",
      "Requirement already satisfied: prompt-toolkit!=3.0.37,<3.1.0,>=3.0.30 in c:\\users\\aman choudhary\\anaconda3\\envs\\my-aman\\lib\\site-packages (from ipython>=7.23.1->ipykernel) (3.0.36)\n",
      "Requirement already satisfied: pygments>=2.4.0 in c:\\users\\aman choudhary\\anaconda3\\envs\\my-aman\\lib\\site-packages (from ipython>=7.23.1->ipykernel) (2.15.1)\n",
      "Requirement already satisfied: stack-data in c:\\users\\aman choudhary\\anaconda3\\envs\\my-aman\\lib\\site-packages (from ipython>=7.23.1->ipykernel) (0.2.0)\n",
      "Requirement already satisfied: colorama in c:\\users\\aman choudhary\\anaconda3\\envs\\my-aman\\lib\\site-packages (from ipython>=7.23.1->ipykernel) (0.4.6)\n",
      "Requirement already satisfied: entrypoints in c:\\users\\aman choudhary\\anaconda3\\envs\\my-aman\\lib\\site-packages (from jupyter-client>=6.1.12->ipykernel) (0.4)\n",
      "Requirement already satisfied: python-dateutil>=2.8.2 in c:\\users\\aman choudhary\\anaconda3\\envs\\my-aman\\lib\\site-packages (from jupyter-client>=6.1.12->ipykernel) (2.8.2)\n",
      "Requirement already satisfied: platformdirs>=2.5 in c:\\users\\aman choudhary\\anaconda3\\envs\\my-aman\\lib\\site-packages (from jupyter-core!=5.0.*,>=4.12->ipykernel) (3.10.0)\n",
      "Requirement already satisfied: pywin32>=300 in c:\\users\\aman choudhary\\anaconda3\\envs\\my-aman\\lib\\site-packages (from jupyter-core!=5.0.*,>=4.12->ipykernel) (305.1)\n",
      "Requirement already satisfied: parso<0.9.0,>=0.8.0 in c:\\users\\aman choudhary\\anaconda3\\envs\\my-aman\\lib\\site-packages (from jedi>=0.16->ipython>=7.23.1->ipykernel) (0.8.3)\n",
      "Requirement already satisfied: wcwidth in c:\\users\\aman choudhary\\anaconda3\\envs\\my-aman\\lib\\site-packages (from prompt-toolkit!=3.0.37,<3.1.0,>=3.0.30->ipython>=7.23.1->ipykernel) (0.2.5)\n",
      "Requirement already satisfied: six>=1.5 in c:\\users\\aman choudhary\\anaconda3\\envs\\my-aman\\lib\\site-packages (from python-dateutil>=2.8.2->jupyter-client>=6.1.12->ipykernel) (1.16.0)\n",
      "Requirement already satisfied: executing in c:\\users\\aman choudhary\\anaconda3\\envs\\my-aman\\lib\\site-packages (from stack-data->ipython>=7.23.1->ipykernel) (0.8.3)\n",
      "Requirement already satisfied: asttokens in c:\\users\\aman choudhary\\anaconda3\\envs\\my-aman\\lib\\site-packages (from stack-data->ipython>=7.23.1->ipykernel) (2.0.5)\n",
      "Requirement already satisfied: pure-eval in c:\\users\\aman choudhary\\anaconda3\\envs\\my-aman\\lib\\site-packages (from stack-data->ipython>=7.23.1->ipykernel) (0.2.2)\n",
      "Downloading scikit_learn-1.7.1-cp311-cp311-win_amd64.whl (8.9 MB)\n",
      "   ---------------------------------------- 0.0/8.9 MB ? eta -:--:--\n",
      "   ---------------------------------------- 0.1/8.9 MB 2.0 MB/s eta 0:00:05\n",
      "    --------------------------------------- 0.2/8.9 MB 2.0 MB/s eta 0:00:05\n",
      "   - -------------------------------------- 0.2/8.9 MB 1.8 MB/s eta 0:00:05\n",
      "   - -------------------------------------- 0.3/8.9 MB 1.8 MB/s eta 0:00:05\n",
      "   - -------------------------------------- 0.4/8.9 MB 1.8 MB/s eta 0:00:05\n",
      "   -- ------------------------------------- 0.5/8.9 MB 1.8 MB/s eta 0:00:05\n",
      "   -- ------------------------------------- 0.6/8.9 MB 1.8 MB/s eta 0:00:05\n",
      "   -- ------------------------------------- 0.7/8.9 MB 1.8 MB/s eta 0:00:05\n",
      "   --- ------------------------------------ 0.8/8.9 MB 2.0 MB/s eta 0:00:05\n",
      "   ---- ----------------------------------- 0.9/8.9 MB 2.1 MB/s eta 0:00:04\n",
      "   ----- ---------------------------------- 1.1/8.9 MB 2.3 MB/s eta 0:00:04\n",
      "   ----- ---------------------------------- 1.3/8.9 MB 2.4 MB/s eta 0:00:04\n",
      "   ------ --------------------------------- 1.5/8.9 MB 2.5 MB/s eta 0:00:03\n",
      "   ------- -------------------------------- 1.6/8.9 MB 2.5 MB/s eta 0:00:03\n",
      "   -------- ------------------------------- 1.8/8.9 MB 2.7 MB/s eta 0:00:03\n",
      "   --------- ------------------------------ 2.1/8.9 MB 2.8 MB/s eta 0:00:03\n",
      "   ---------- ----------------------------- 2.3/8.9 MB 2.9 MB/s eta 0:00:03\n",
      "   ----------- ---------------------------- 2.5/8.9 MB 3.1 MB/s eta 0:00:03\n",
      "   ------------ --------------------------- 2.8/8.9 MB 3.2 MB/s eta 0:00:02\n",
      "   ------------- -------------------------- 3.1/8.9 MB 3.4 MB/s eta 0:00:02\n",
      "   -------------- ------------------------- 3.3/8.9 MB 3.4 MB/s eta 0:00:02\n",
      "   ---------------- ----------------------- 3.6/8.9 MB 3.6 MB/s eta 0:00:02\n",
      "   ----------------- ---------------------- 3.8/8.9 MB 3.7 MB/s eta 0:00:02\n",
      "   ------------------ --------------------- 4.1/8.9 MB 3.7 MB/s eta 0:00:02\n",
      "   ------------------- -------------------- 4.4/8.9 MB 3.8 MB/s eta 0:00:02\n",
      "   -------------------- ------------------- 4.6/8.9 MB 3.9 MB/s eta 0:00:02\n",
      "   ---------------------- ----------------- 4.9/8.9 MB 4.0 MB/s eta 0:00:02\n",
      "   ----------------------- ---------------- 5.2/8.9 MB 4.0 MB/s eta 0:00:01\n",
      "   ------------------------ --------------- 5.4/8.9 MB 4.1 MB/s eta 0:00:01\n",
      "   ------------------------- -------------- 5.7/8.9 MB 4.1 MB/s eta 0:00:01\n",
      "   -------------------------- ------------- 6.0/8.9 MB 4.2 MB/s eta 0:00:01\n",
      "   ---------------------------- ----------- 6.2/8.9 MB 4.2 MB/s eta 0:00:01\n",
      "   ----------------------------- ---------- 6.5/8.9 MB 4.3 MB/s eta 0:00:01\n",
      "   ------------------------------ --------- 6.8/8.9 MB 4.3 MB/s eta 0:00:01\n",
      "   ------------------------------- -------- 7.1/8.9 MB 4.4 MB/s eta 0:00:01\n",
      "   -------------------------------- ------- 7.3/8.9 MB 4.4 MB/s eta 0:00:01\n",
      "   ---------------------------------- ----- 7.6/8.9 MB 4.4 MB/s eta 0:00:01\n",
      "   ----------------------------------- ---- 7.8/8.9 MB 4.5 MB/s eta 0:00:01\n",
      "   ------------------------------------ --- 8.1/8.9 MB 4.5 MB/s eta 0:00:01\n",
      "   ------------------------------------- -- 8.4/8.9 MB 4.6 MB/s eta 0:00:01\n",
      "   -------------------------------------- - 8.6/8.9 MB 4.6 MB/s eta 0:00:01\n",
      "   ---------------------------------------  8.9/8.9 MB 4.6 MB/s eta 0:00:01\n",
      "   ---------------------------------------- 8.9/8.9 MB 4.6 MB/s eta 0:00:00\n",
      "Downloading joblib-1.5.2-py3-none-any.whl (308 kB)\n",
      "   ---------------------------------------- 0.0/308.4 kB ? eta -:--:--\n",
      "   ---------------------------------------- 308.4/308.4 kB 9.6 MB/s eta 0:00:00\n",
      "Downloading scipy-1.16.1-cp311-cp311-win_amd64.whl (38.6 MB)\n",
      "   ---------------------------------------- 0.0/38.6 MB ? eta -:--:--\n",
      "   ---------------------------------------- 0.3/38.6 MB 8.9 MB/s eta 0:00:05\n",
      "    --------------------------------------- 0.5/38.6 MB 6.7 MB/s eta 0:00:06\n",
      "    --------------------------------------- 0.8/38.6 MB 6.1 MB/s eta 0:00:07\n",
      "   - -------------------------------------- 1.1/38.6 MB 6.2 MB/s eta 0:00:07\n",
      "   - -------------------------------------- 1.3/38.6 MB 6.0 MB/s eta 0:00:07\n",
      "   - -------------------------------------- 1.6/38.6 MB 6.0 MB/s eta 0:00:07\n",
      "   - -------------------------------------- 1.9/38.6 MB 5.9 MB/s eta 0:00:07\n",
      "   -- ------------------------------------- 2.1/38.6 MB 5.9 MB/s eta 0:00:07\n",
      "   -- ------------------------------------- 2.4/38.6 MB 5.9 MB/s eta 0:00:07\n",
      "   -- ------------------------------------- 2.7/38.6 MB 5.9 MB/s eta 0:00:07\n",
      "   --- ------------------------------------ 3.0/38.6 MB 5.9 MB/s eta 0:00:07\n",
      "   --- ------------------------------------ 3.2/38.6 MB 5.9 MB/s eta 0:00:07\n",
      "   --- ------------------------------------ 3.5/38.6 MB 6.0 MB/s eta 0:00:06\n",
      "   --- ------------------------------------ 3.8/38.6 MB 5.9 MB/s eta 0:00:06\n",
      "   ---- ----------------------------------- 4.0/38.6 MB 5.9 MB/s eta 0:00:06\n",
      "   ---- ----------------------------------- 4.3/38.6 MB 5.8 MB/s eta 0:00:06\n",
      "   ---- ----------------------------------- 4.6/38.6 MB 5.9 MB/s eta 0:00:06\n",
      "   ----- ---------------------------------- 4.8/38.6 MB 6.0 MB/s eta 0:00:06\n",
      "   ----- ---------------------------------- 5.1/38.6 MB 5.8 MB/s eta 0:00:06\n",
      "   ----- ---------------------------------- 5.4/38.6 MB 5.8 MB/s eta 0:00:06\n",
      "   ----- ---------------------------------- 5.7/38.6 MB 5.8 MB/s eta 0:00:06\n",
      "   ------ --------------------------------- 6.0/38.6 MB 5.9 MB/s eta 0:00:06\n",
      "   ------ --------------------------------- 6.2/38.6 MB 5.9 MB/s eta 0:00:06\n",
      "   ------ --------------------------------- 6.5/38.6 MB 5.9 MB/s eta 0:00:06\n",
      "   ------ --------------------------------- 6.8/38.6 MB 5.9 MB/s eta 0:00:06\n",
      "   ------- -------------------------------- 6.9/38.6 MB 5.9 MB/s eta 0:00:06\n",
      "   ------- -------------------------------- 7.2/38.6 MB 5.9 MB/s eta 0:00:06\n",
      "   ------- -------------------------------- 7.5/38.6 MB 5.9 MB/s eta 0:00:06\n",
      "   -------- ------------------------------- 7.9/38.6 MB 5.9 MB/s eta 0:00:06\n",
      "   -------- ------------------------------- 8.1/38.6 MB 5.9 MB/s eta 0:00:06\n",
      "   -------- ------------------------------- 8.4/38.6 MB 5.9 MB/s eta 0:00:06\n",
      "   -------- ------------------------------- 8.7/38.6 MB 5.9 MB/s eta 0:00:06\n",
      "   --------- ------------------------------ 8.9/38.6 MB 5.9 MB/s eta 0:00:06\n",
      "   --------- ------------------------------ 9.2/38.6 MB 5.9 MB/s eta 0:00:06\n",
      "   --------- ------------------------------ 9.4/38.6 MB 5.9 MB/s eta 0:00:05\n",
      "   ---------- ----------------------------- 9.7/38.6 MB 5.8 MB/s eta 0:00:05\n",
      "   ---------- ----------------------------- 10.0/38.6 MB 5.9 MB/s eta 0:00:05\n",
      "   ---------- ----------------------------- 10.3/38.6 MB 5.8 MB/s eta 0:00:05\n",
      "   ---------- ----------------------------- 10.5/38.6 MB 5.8 MB/s eta 0:00:05\n",
      "   ----------- ---------------------------- 10.8/38.6 MB 5.8 MB/s eta 0:00:05\n",
      "   ----------- ---------------------------- 11.1/38.6 MB 5.8 MB/s eta 0:00:05\n",
      "   ----------- ---------------------------- 11.3/38.6 MB 5.9 MB/s eta 0:00:05\n",
      "   ------------ --------------------------- 11.6/38.6 MB 5.8 MB/s eta 0:00:05\n",
      "   ------------ --------------------------- 11.8/38.6 MB 5.8 MB/s eta 0:00:05\n",
      "   ------------ --------------------------- 12.1/38.6 MB 5.8 MB/s eta 0:00:05\n",
      "   ------------ --------------------------- 12.4/38.6 MB 5.8 MB/s eta 0:00:05\n",
      "   ------------- -------------------------- 12.7/38.6 MB 5.8 MB/s eta 0:00:05\n",
      "   ------------- -------------------------- 13.0/38.6 MB 5.8 MB/s eta 0:00:05\n",
      "   ------------- -------------------------- 13.2/38.6 MB 5.8 MB/s eta 0:00:05\n",
      "   -------------- ------------------------- 13.5/38.6 MB 5.8 MB/s eta 0:00:05\n",
      "   -------------- ------------------------- 13.8/38.6 MB 5.8 MB/s eta 0:00:05\n",
      "   -------------- ------------------------- 14.0/38.6 MB 5.8 MB/s eta 0:00:05\n",
      "   -------------- ------------------------- 14.2/38.6 MB 5.8 MB/s eta 0:00:05\n",
      "   --------------- ------------------------ 14.6/38.6 MB 5.8 MB/s eta 0:00:05\n",
      "   --------------- ------------------------ 14.9/38.6 MB 5.8 MB/s eta 0:00:05\n",
      "   --------------- ------------------------ 15.1/38.6 MB 5.8 MB/s eta 0:00:05\n",
      "   --------------- ------------------------ 15.4/38.6 MB 5.8 MB/s eta 0:00:04\n",
      "   ---------------- ----------------------- 15.7/38.6 MB 5.8 MB/s eta 0:00:04\n",
      "   ---------------- ----------------------- 16.0/38.6 MB 5.8 MB/s eta 0:00:04\n",
      "   ---------------- ----------------------- 16.2/38.6 MB 5.8 MB/s eta 0:00:04\n",
      "   ----------------- ---------------------- 16.5/38.6 MB 5.8 MB/s eta 0:00:04\n",
      "   ----------------- ---------------------- 16.8/38.6 MB 5.8 MB/s eta 0:00:04\n",
      "   ----------------- ---------------------- 17.0/38.6 MB 5.8 MB/s eta 0:00:04\n",
      "   ----------------- ---------------------- 17.3/38.6 MB 5.8 MB/s eta 0:00:04\n",
      "   ------------------ --------------------- 17.6/38.6 MB 5.8 MB/s eta 0:00:04\n",
      "   ------------------ --------------------- 17.9/38.6 MB 5.8 MB/s eta 0:00:04\n",
      "   ------------------ --------------------- 18.1/38.6 MB 5.8 MB/s eta 0:00:04\n",
      "   ------------------- -------------------- 18.4/38.6 MB 5.8 MB/s eta 0:00:04\n",
      "   ------------------- -------------------- 18.6/38.6 MB 5.8 MB/s eta 0:00:04\n",
      "   ------------------- -------------------- 19.0/38.6 MB 5.8 MB/s eta 0:00:04\n",
      "   ------------------- -------------------- 19.2/38.6 MB 5.8 MB/s eta 0:00:04\n",
      "   -------------------- ------------------- 19.5/38.6 MB 5.9 MB/s eta 0:00:04\n",
      "   -------------------- ------------------- 19.8/38.6 MB 5.8 MB/s eta 0:00:04\n",
      "   -------------------- ------------------- 20.0/38.6 MB 5.8 MB/s eta 0:00:04\n",
      "   --------------------- ------------------ 20.3/38.6 MB 5.8 MB/s eta 0:00:04\n",
      "   --------------------- ------------------ 20.6/38.6 MB 5.8 MB/s eta 0:00:04\n",
      "   --------------------- ------------------ 20.8/38.6 MB 5.8 MB/s eta 0:00:04\n",
      "   --------------------- ------------------ 21.1/38.6 MB 5.8 MB/s eta 0:00:04\n",
      "   ---------------------- ----------------- 21.4/38.6 MB 5.8 MB/s eta 0:00:03\n",
      "   ---------------------- ----------------- 21.6/38.6 MB 5.9 MB/s eta 0:00:03\n",
      "   ---------------------- ----------------- 21.9/38.6 MB 5.8 MB/s eta 0:00:03\n",
      "   ---------------------- ----------------- 22.2/38.6 MB 5.8 MB/s eta 0:00:03\n",
      "   ----------------------- ---------------- 22.5/38.6 MB 5.8 MB/s eta 0:00:03\n",
      "   ----------------------- ---------------- 22.7/38.6 MB 5.8 MB/s eta 0:00:03\n",
      "   ----------------------- ---------------- 23.0/38.6 MB 5.9 MB/s eta 0:00:03\n",
      "   ------------------------ --------------- 23.3/38.6 MB 5.9 MB/s eta 0:00:03\n",
      "   ------------------------ --------------- 23.5/38.6 MB 5.9 MB/s eta 0:00:03\n",
      "   ------------------------ --------------- 23.8/38.6 MB 5.8 MB/s eta 0:00:03\n",
      "   ------------------------ --------------- 24.1/38.6 MB 5.9 MB/s eta 0:00:03\n",
      "   ------------------------- -------------- 24.3/38.6 MB 5.8 MB/s eta 0:00:03\n",
      "   ------------------------- -------------- 24.6/38.6 MB 5.8 MB/s eta 0:00:03\n",
      "   ------------------------- -------------- 24.9/38.6 MB 5.8 MB/s eta 0:00:03\n",
      "   -------------------------- ------------- 25.1/38.6 MB 5.8 MB/s eta 0:00:03\n",
      "   -------------------------- ------------- 25.4/38.6 MB 5.9 MB/s eta 0:00:03\n",
      "   -------------------------- ------------- 25.7/38.6 MB 5.8 MB/s eta 0:00:03\n",
      "   -------------------------- ------------- 26.0/38.6 MB 5.8 MB/s eta 0:00:03\n",
      "   --------------------------- ------------ 26.3/38.6 MB 5.8 MB/s eta 0:00:03\n",
      "   --------------------------- ------------ 26.5/38.6 MB 5.8 MB/s eta 0:00:03\n",
      "   --------------------------- ------------ 26.8/38.6 MB 5.8 MB/s eta 0:00:03\n",
      "   ---------------------------- ----------- 27.1/38.6 MB 5.8 MB/s eta 0:00:02\n",
      "   ---------------------------- ----------- 27.4/38.6 MB 5.8 MB/s eta 0:00:02\n",
      "   ---------------------------- ----------- 27.6/38.6 MB 5.8 MB/s eta 0:00:02\n",
      "   ---------------------------- ----------- 27.9/38.6 MB 5.8 MB/s eta 0:00:02\n",
      "   ----------------------------- ---------- 28.1/38.6 MB 5.8 MB/s eta 0:00:02\n",
      "   ----------------------------- ---------- 28.5/38.6 MB 5.8 MB/s eta 0:00:02\n",
      "   ----------------------------- ---------- 28.7/38.6 MB 5.8 MB/s eta 0:00:02\n",
      "   ------------------------------ --------- 29.0/38.6 MB 5.8 MB/s eta 0:00:02\n",
      "   ------------------------------ --------- 29.3/38.6 MB 5.9 MB/s eta 0:00:02\n",
      "   ------------------------------ --------- 29.6/38.6 MB 5.8 MB/s eta 0:00:02\n",
      "   ------------------------------ --------- 29.8/38.6 MB 5.9 MB/s eta 0:00:02\n",
      "   ------------------------------- -------- 30.1/38.6 MB 5.8 MB/s eta 0:00:02\n",
      "   ------------------------------- -------- 30.4/38.6 MB 5.9 MB/s eta 0:00:02\n",
      "   ------------------------------- -------- 30.6/38.6 MB 5.9 MB/s eta 0:00:02\n",
      "   ------------------------------- -------- 30.9/38.6 MB 5.9 MB/s eta 0:00:02\n",
      "   -------------------------------- ------- 31.2/38.6 MB 5.9 MB/s eta 0:00:02\n",
      "   -------------------------------- ------- 31.5/38.6 MB 5.9 MB/s eta 0:00:02\n",
      "   -------------------------------- ------- 31.7/38.6 MB 5.9 MB/s eta 0:00:02\n",
      "   --------------------------------- ------ 32.0/38.6 MB 5.8 MB/s eta 0:00:02\n",
      "   --------------------------------- ------ 32.2/38.6 MB 5.9 MB/s eta 0:00:02\n",
      "   --------------------------------- ------ 32.5/38.6 MB 5.9 MB/s eta 0:00:02\n",
      "   --------------------------------- ------ 32.8/38.6 MB 5.9 MB/s eta 0:00:01\n",
      "   ---------------------------------- ----- 33.0/38.6 MB 5.8 MB/s eta 0:00:01\n",
      "   ---------------------------------- ----- 33.3/38.6 MB 5.8 MB/s eta 0:00:01\n",
      "   ---------------------------------- ----- 33.5/38.6 MB 5.8 MB/s eta 0:00:01\n",
      "   ---------------------------------- ----- 33.8/38.6 MB 5.8 MB/s eta 0:00:01\n",
      "   ----------------------------------- ---- 34.1/38.6 MB 5.9 MB/s eta 0:00:01\n",
      "   ----------------------------------- ---- 34.3/38.6 MB 5.9 MB/s eta 0:00:01\n",
      "   ----------------------------------- ---- 34.6/38.6 MB 5.9 MB/s eta 0:00:01\n",
      "   ------------------------------------ --- 34.8/38.6 MB 5.8 MB/s eta 0:00:01\n",
      "   ------------------------------------ --- 35.1/38.6 MB 5.9 MB/s eta 0:00:01\n",
      "   ------------------------------------ --- 35.4/38.6 MB 5.9 MB/s eta 0:00:01\n",
      "   ------------------------------------ --- 35.7/38.6 MB 5.9 MB/s eta 0:00:01\n",
      "   ------------------------------------- -- 35.9/38.6 MB 5.8 MB/s eta 0:00:01\n",
      "   ------------------------------------- -- 36.2/38.6 MB 5.8 MB/s eta 0:00:01\n",
      "   ------------------------------------- -- 36.5/38.6 MB 5.8 MB/s eta 0:00:01\n",
      "   -------------------------------------- - 36.8/38.6 MB 5.8 MB/s eta 0:00:01\n",
      "   -------------------------------------- - 37.0/38.6 MB 5.8 MB/s eta 0:00:01\n",
      "   -------------------------------------- - 37.3/38.6 MB 5.8 MB/s eta 0:00:01\n",
      "   -------------------------------------- - 37.5/38.6 MB 5.8 MB/s eta 0:00:01\n",
      "   ---------------------------------------  37.8/38.6 MB 5.8 MB/s eta 0:00:01\n",
      "   ---------------------------------------  38.1/38.6 MB 5.8 MB/s eta 0:00:01\n",
      "   ---------------------------------------  38.4/38.6 MB 5.8 MB/s eta 0:00:01\n",
      "   ---------------------------------------  38.6/38.6 MB 5.8 MB/s eta 0:00:01\n",
      "   ---------------------------------------  38.6/38.6 MB 5.8 MB/s eta 0:00:01\n",
      "   ---------------------------------------  38.6/38.6 MB 5.8 MB/s eta 0:00:01\n",
      "   ---------------------------------------- 38.6/38.6 MB 5.3 MB/s eta 0:00:00\n",
      "Downloading threadpoolctl-3.6.0-py3-none-any.whl (18 kB)\n",
      "Installing collected packages: threadpoolctl, scipy, joblib, scikit-learn\n",
      "Successfully installed joblib-1.5.2 scikit-learn-1.7.1 scipy-1.16.1 threadpoolctl-3.6.0\n",
      "Note: you may need to restart the kernel to use updated packages.\n"
     ]
    }
   ],
   "source": [
    "pip install scikit-learn ipykernel"
   ]
  },
  {
   "cell_type": "code",
   "execution_count": 36,
   "id": "d9ac70de",
   "metadata": {},
   "outputs": [],
   "source": [
    "import sklearn"
   ]
  },
  {
   "cell_type": "code",
   "execution_count": 37,
   "id": "770ef37b",
   "metadata": {},
   "outputs": [],
   "source": [
    "from sklearn.pipeline import Pipeline\n",
    "from sklearn.impute import SimpleImputer\n",
    "from sklearn.preprocessing import StandardScaler, OneHotEncoder"
   ]
  },
  {
   "cell_type": "code",
   "execution_count": 38,
   "id": "1b19097d",
   "metadata": {},
   "outputs": [],
   "source": [
    "num_pipeline = Pipeline(steps=[\n",
    "    (\"imputer\", SimpleImputer(strategy=\"median\")),\n",
    "    (\"scaler\", StandardScaler())\n",
    "])"
   ]
  },
  {
   "cell_type": "code",
   "execution_count": 39,
   "id": "c3745679",
   "metadata": {},
   "outputs": [],
   "source": [
    "cat_pipeline = Pipeline(steps=[\n",
    "    (\"imputer\", SimpleImputer(strategy=\"most_frequent\")),\n",
    "    (\"onehot\", OneHotEncoder(handle_unknown=\"ignore\"))\n",
    "])"
   ]
  },
  {
   "cell_type": "markdown",
   "id": "79a932e7",
   "metadata": {},
   "source": [
    "Combine Pipelines with ColumnTransformer"
   ]
  },
  {
   "cell_type": "code",
   "execution_count": 49,
   "id": "4ee72f6a",
   "metadata": {},
   "outputs": [],
   "source": [
    "from sklearn.compose import ColumnTransformer\n",
    "\n",
    "numerical_features = [\n",
    "    \"sqft_living\",\n",
    "    \"sqft_lot\",\n",
    "    \"bathrooms\",\n",
    "    \"house_age\",\n",
    "    \"age_since_renovation\",\n",
    "    \"sqft_living_per_floor\",\n",
    "    \"bath_per_bed\"\n",
    "]\n",
    "\n",
    "categorical_features = [\n",
    "    \"zipcode\",\n",
    "    \"sale_month\"\n",
    "]\n",
    "\n",
    "passthrough_features = [\n",
    "    \"bedrooms\",\n",
    "    \"floors\",\n",
    "    \"waterfront\",\n",
    "    \"view\",\n",
    "    \"condition\",\n",
    "    \"grade\",\n",
    "    \"was_renovated\",\n",
    "    \"sale_year\"\n",
    "]\n"
   ]
  },
  {
   "cell_type": "code",
   "execution_count": 52,
   "id": "5cbb12b2",
   "metadata": {},
   "outputs": [
    {
     "name": "stdout",
     "output_type": "stream",
     "text": [
      "Original shape: (19687, 29)\n",
      "Transformed shape: (19687, 97)\n"
     ]
    }
   ],
   "source": [
    "preprocessor = ColumnTransformer(\n",
    "    transformers=[\n",
    "        (\"num\", num_pipeline, numerical_features),\n",
    "        (\"cat\", cat_pipeline, categorical_features),\n",
    "        (\"pass\", \"passthrough\", passthrough_features)\n",
    "    ]\n",
    ")\n",
    "\n",
    "X_transformed = preprocessor.fit_transform(df_clean)\n",
    "\n",
    "print(\"Original shape:\", df_clean.shape)\n",
    "print(\"Transformed shape:\", X_transformed.shape)"
   ]
  },
  {
   "cell_type": "markdown",
   "id": "bce7223b",
   "metadata": {},
   "source": [
    "Task 3: Model Training and Hyperparameter Tuning"
   ]
  },
  {
   "cell_type": "markdown",
   "id": "5719e5df",
   "metadata": {},
   "source": [
    "Select Candidate Models & Create Final Pipelines"
   ]
  },
  {
   "cell_type": "code",
   "execution_count": 60,
   "id": "9e59390c",
   "metadata": {},
   "outputs": [
    {
     "name": "stdout",
     "output_type": "stream",
     "text": [
      "Requirement already satisfied: xgboost in c:\\users\\aman choudhary\\anaconda3\\envs\\my-aman\\lib\\site-packages (3.0.4)\n",
      "Requirement already satisfied: numpy in c:\\users\\aman choudhary\\anaconda3\\envs\\my-aman\\lib\\site-packages (from xgboost) (1.25.2)\n",
      "Requirement already satisfied: scipy in c:\\users\\aman choudhary\\anaconda3\\envs\\my-aman\\lib\\site-packages (from xgboost) (1.16.1)\n"
     ]
    }
   ],
   "source": [
    "!pip install xgboost\n"
   ]
  },
  {
   "cell_type": "code",
   "execution_count": 58,
   "id": "3f3ad81e",
   "metadata": {},
   "outputs": [],
   "source": [
    "import xgboost as xgb\n",
    "from xgboost import XGBRegressor"
   ]
  },
  {
   "cell_type": "code",
   "execution_count": 59,
   "id": "6dccaa2a",
   "metadata": {},
   "outputs": [],
   "source": [
    "\n",
    "from sklearn.pipeline import Pipeline\n",
    "from sklearn.ensemble import RandomForestRegressor, GradientBoostingRegressor\n",
    "\n",
    "# Random Forest Pipeline\n",
    "rf_pipeline = Pipeline(steps=[\n",
    "    ('preprocessor', preprocessor),\n",
    "    ('regressor', RandomForestRegressor(random_state=42))\n",
    "])\n",
    "\n",
    "# Gradient Boosting Pipeline\n",
    "gb_pipeline = Pipeline(steps=[\n",
    "    ('preprocessor', preprocessor),\n",
    "    ('regressor', GradientBoostingRegressor(random_state=42))\n",
    "])\n",
    "\n",
    "# XGBoost Pipeline\n",
    "xgb_pipeline = Pipeline(steps=[\n",
    "    ('preprocessor', preprocessor),\n",
    "    ('regressor', XGBRegressor(random_state=42, verbosity=0))\n",
    "])\n"
   ]
  },
  {
   "cell_type": "markdown",
   "id": "a374174d",
   "metadata": {},
   "source": [
    "Hyperparameter Tuning with GridSearchCV"
   ]
  },
  {
   "cell_type": "code",
   "execution_count": 61,
   "id": "312265bc",
   "metadata": {},
   "outputs": [],
   "source": [
    "from sklearn.model_selection import GridSearchCV\n",
    "\n",
    "# Parameter grids\n",
    "param_grid_rf = {\n",
    "    'regressor__n_estimators': [100, 200],\n",
    "    'regressor__max_depth': [10, 20, None]\n",
    "}\n",
    "\n",
    "param_grid_gb = {\n",
    "    'regressor__n_estimators': [100, 200],\n",
    "    'regressor__learning_rate': [0.05, 0.1],\n",
    "    'regressor__max_depth': [3, 5]\n",
    "}\n",
    "\n",
    "param_grid_xgb = {\n",
    "    'regressor__n_estimators': [200, 300],\n",
    "    'regressor__learning_rate': [0.05, 0.1],\n",
    "    'regressor__max_depth': [4, 6]\n",
    "}\n",
    "\n",
    "# Create GridSearchCV objects\n",
    "grid_rf = GridSearchCV(rf_pipeline, param_grid_rf, cv=3,\n",
    "                       scoring='neg_root_mean_squared_error', n_jobs=-1, verbose=2)\n",
    "\n",
    "grid_gb = GridSearchCV(gb_pipeline, param_grid_gb, cv=3,\n",
    "                       scoring='neg_root_mean_squared_error', n_jobs=-1, verbose=2)\n",
    "\n",
    "grid_xgb = GridSearchCV(xgb_pipeline, param_grid_xgb, cv=3,\n",
    "                        scoring='neg_root_mean_squared_error', n_jobs=-1, verbose=2)\n"
   ]
  },
  {
   "cell_type": "code",
   "execution_count": null,
   "id": "6ac092d0",
   "metadata": {},
   "outputs": [],
   "source": [
    "X = df_clean.drop(columns=['price'])  \n",
    "y = df_clean['price'] "
   ]
  },
  {
   "cell_type": "code",
   "execution_count": 65,
   "id": "7cc13eaf",
   "metadata": {},
   "outputs": [],
   "source": [
    "from sklearn.model_selection import train_test_split\n",
    "\n",
    "X_train, X_test, y_train, y_test = train_test_split(\n",
    "    X, y, test_size=0.2, random_state=42\n",
    ")\n"
   ]
  },
  {
   "cell_type": "code",
   "execution_count": 80,
   "id": "3d5e9b0a",
   "metadata": {},
   "outputs": [],
   "source": [
    "models = {\n",
    "    \"RandomForest\": (\n",
    "        Pipeline([\n",
    "            (\"preprocessor\", preprocessor),\n",
    "            (\"regressor\", RandomForestRegressor(random_state=42))\n",
    "        ]),\n",
    "        {\"regressor__n_estimators\": [100, 200],\n",
    "         \"regressor__max_depth\": [None, 15]}\n",
    "    ),\n",
    "\n",
    "    \"GradientBoosting\": (\n",
    "        Pipeline([\n",
    "            (\"preprocessor\", preprocessor),\n",
    "            (\"regressor\", GradientBoostingRegressor(random_state=42))\n",
    "        ]),\n",
    "        {\"regressor__n_estimators\": [100, 200],\n",
    "         \"regressor__learning_rate\": [0.05, 0.1]}\n",
    "    )\n",
    "}"
   ]
  },
  {
   "cell_type": "code",
   "execution_count": 81,
   "id": "da0786c9",
   "metadata": {},
   "outputs": [],
   "source": [
    "try:\n",
    "    from xgboost import XGBRegressor\n",
    "    models[\"XGBoost\"] = (\n",
    "        Pipeline([\n",
    "            (\"preprocessor\", preprocessor),\n",
    "            (\"regressor\", XGBRegressor(random_state=42, n_estimators=200))\n",
    "        ]),\n",
    "        {\"regressor__max_depth\": [4, 6],\n",
    "         \"regressor__learning_rate\": [0.05, 0.1]}\n",
    "    )\n",
    "except ImportError:\n",
    "    pass"
   ]
  },
  {
   "cell_type": "code",
   "execution_count": 82,
   "id": "8a0d5c50",
   "metadata": {},
   "outputs": [
    {
     "name": "stdout",
     "output_type": "stream",
     "text": [
      "\n",
      "=== Tuning RandomForest ===\n",
      "Fitting 3 folds for each of 4 candidates, totalling 12 fits\n",
      "Best params: {'regressor__max_depth': None, 'regressor__n_estimators': 200}\n",
      "\n",
      "=== Tuning GradientBoosting ===\n",
      "Fitting 3 folds for each of 4 candidates, totalling 12 fits\n",
      "Best params: {'regressor__learning_rate': 0.1, 'regressor__n_estimators': 200}\n",
      "\n",
      "=== Tuning XGBoost ===\n",
      "Fitting 3 folds for each of 4 candidates, totalling 12 fits\n",
      "Best params: {'regressor__learning_rate': 0.1, 'regressor__max_depth': 6}\n"
     ]
    }
   ],
   "source": [
    "best_models = {}\n",
    "\n",
    "for name, (pipe, params) in models.items():\n",
    "    print(f\"\\n=== Tuning {name} ===\")\n",
    "    grid = GridSearchCV(pipe, params, cv=3,\n",
    "                        scoring=\"neg_root_mean_squared_error\",\n",
    "                        n_jobs=-1, verbose=1)\n",
    "    grid.fit(X_train, y_train)\n",
    "    best_models[name] = grid\n",
    "    print(\"Best params:\", grid.best_params_)"
   ]
  },
  {
   "cell_type": "code",
   "execution_count": 83,
   "id": "eb5d57b5",
   "metadata": {},
   "outputs": [
    {
     "name": "stdout",
     "output_type": "stream",
     "text": [
      "\n",
      "=== RandomForest ===\n",
      "Best Parameters: {'regressor__max_depth': None, 'regressor__n_estimators': 200}\n",
      "Best Model:\n",
      " Pipeline(steps=[('preprocessor',\n",
      "                 ColumnTransformer(transformers=[('num',\n",
      "                                                  Pipeline(steps=[('imputer',\n",
      "                                                                   SimpleImputer(strategy='median')),\n",
      "                                                                  ('scaler',\n",
      "                                                                   StandardScaler())]),\n",
      "                                                  ['sqft_living', 'sqft_lot',\n",
      "                                                   'bathrooms', 'house_age',\n",
      "                                                   'age_since_renovation',\n",
      "                                                   'sqft_living_per_floor',\n",
      "                                                   'bath_per_bed']),\n",
      "                                                 ('cat',\n",
      "                                                  Pipeline(steps=[('imputer',\n",
      "                                                                   SimpleImputer(strategy='most_frequent')),\n",
      "                                                                  ('onehot',\n",
      "                                                                   OneHotEncoder(handle_unknown='ignore'))]),\n",
      "                                                  ['zipcode', 'sale_month']),\n",
      "                                                 ('pass', 'passthrough',\n",
      "                                                  ['bedrooms', 'floors',\n",
      "                                                   'waterfront', 'view',\n",
      "                                                   'condition', 'grade',\n",
      "                                                   'was_renovated',\n",
      "                                                   'sale_year'])])),\n",
      "                ('regressor',\n",
      "                 RandomForestRegressor(n_estimators=200, random_state=42))])\n",
      "\n",
      "=== GradientBoosting ===\n",
      "Best Parameters: {'regressor__learning_rate': 0.1, 'regressor__n_estimators': 200}\n",
      "Best Model:\n",
      " Pipeline(steps=[('preprocessor',\n",
      "                 ColumnTransformer(transformers=[('num',\n",
      "                                                  Pipeline(steps=[('imputer',\n",
      "                                                                   SimpleImputer(strategy='median')),\n",
      "                                                                  ('scaler',\n",
      "                                                                   StandardScaler())]),\n",
      "                                                  ['sqft_living', 'sqft_lot',\n",
      "                                                   'bathrooms', 'house_age',\n",
      "                                                   'age_since_renovation',\n",
      "                                                   'sqft_living_per_floor',\n",
      "                                                   'bath_per_bed']),\n",
      "                                                 ('cat',\n",
      "                                                  Pipeline(steps=[('imputer',\n",
      "                                                                   SimpleImputer(strategy='most_frequent')),\n",
      "                                                                  ('onehot',\n",
      "                                                                   OneHotEncoder(handle_unknown='ignore'))]),\n",
      "                                                  ['zipcode', 'sale_month']),\n",
      "                                                 ('pass', 'passthrough',\n",
      "                                                  ['bedrooms', 'floors',\n",
      "                                                   'waterfront', 'view',\n",
      "                                                   'condition', 'grade',\n",
      "                                                   'was_renovated',\n",
      "                                                   'sale_year'])])),\n",
      "                ('regressor',\n",
      "                 GradientBoostingRegressor(n_estimators=200, random_state=42))])\n",
      "\n",
      "=== XGBoost ===\n",
      "Best Parameters: {'regressor__learning_rate': 0.1, 'regressor__max_depth': 6}\n",
      "Best Model:\n",
      " Pipeline(steps=[('preprocessor',\n",
      "                 ColumnTransformer(transformers=[('num',\n",
      "                                                  Pipeline(steps=[('imputer',\n",
      "                                                                   SimpleImputer(strategy='median')),\n",
      "                                                                  ('scaler',\n",
      "                                                                   StandardScaler())]),\n",
      "                                                  ['sqft_living', 'sqft_lot',\n",
      "                                                   'bathrooms', 'house_age',\n",
      "                                                   'age_since_renovation',\n",
      "                                                   'sqft_living_per_floor',\n",
      "                                                   'bath_per_bed']),\n",
      "                                                 ('cat',\n",
      "                                                  Pipeline(steps=[('imputer',\n",
      "                                                                   SimpleImputer(strategy='most_frequent'))...\n",
      "                              feature_types=None, feature_weights=None,\n",
      "                              gamma=None, grow_policy=None,\n",
      "                              importance_type=None,\n",
      "                              interaction_constraints=None, learning_rate=0.1,\n",
      "                              max_bin=None, max_cat_threshold=None,\n",
      "                              max_cat_to_onehot=None, max_delta_step=None,\n",
      "                              max_depth=6, max_leaves=None,\n",
      "                              min_child_weight=None, missing=nan,\n",
      "                              monotone_constraints=None, multi_strategy=None,\n",
      "                              n_estimators=200, n_jobs=None,\n",
      "                              num_parallel_tree=None, ...))])\n"
     ]
    }
   ],
   "source": [
    "for name, gs in best_models.items():\n",
    "    print(f\"\\n=== {name} ===\")\n",
    "    print(\"Best Parameters:\", gs.best_params_)\n",
    "    print(\"Best Model:\\n\", gs.best_estimator_)"
   ]
  },
  {
   "cell_type": "markdown",
   "id": "f7b0ff6d",
   "metadata": {},
   "source": [
    "Task 4: Evaluation and Interpretation"
   ]
  },
  {
   "cell_type": "code",
   "execution_count": 84,
   "id": "83456f60",
   "metadata": {},
   "outputs": [],
   "source": [
    "from sklearn.metrics import r2_score, mean_absolute_error, mean_squared_error\n",
    "import numpy as np\n",
    "import pandas as pd\n",
    "import matplotlib.pyplot as plt"
   ]
  },
  {
   "cell_type": "code",
   "execution_count": 85,
   "id": "70d15d12",
   "metadata": {},
   "outputs": [
    {
     "name": "stdout",
     "output_type": "stream",
     "text": [
      "\n",
      "=== Final Test Results ===\n",
      "              Model                                        Best Params    R2  \\\n",
      "0           XGBoost  {'regressor__learning_rate': 0.1, 'regressor__... 0.838   \n",
      "1  GradientBoosting  {'regressor__learning_rate': 0.1, 'regressor__... 0.801   \n",
      "2      RandomForest  {'regressor__max_depth': None, 'regressor__n_e... 0.791   \n",
      "\n",
      "         MAE       RMSE  \n",
      "0 59,247.865 82,226.442  \n",
      "1 68,391.274 91,231.419  \n",
      "2 65,875.532 93,507.227  \n"
     ]
    }
   ],
   "source": [
    "results = []\n",
    "\n",
    "for name, gs in best_models.items():\n",
    "    # Predictions\n",
    "    y_pred = gs.best_estimator_.predict(X_test)\n",
    "\n",
    "    # Metrics\n",
    "    r2 = r2_score(y_test, y_pred)\n",
    "    mae = mean_absolute_error(y_test, y_pred)\n",
    "    rmse = np.sqrt(mean_squared_error(y_test, y_pred))   # RMSE = sqrt(MSE)\n",
    "\n",
    "    # Save results\n",
    "    results.append({\n",
    "        \"Model\": name,\n",
    "        \"Best Params\": gs.best_params_,\n",
    "        \"R2\": r2,\n",
    "        \"MAE\": mae,\n",
    "        \"RMSE\": rmse\n",
    "    })\n",
    "\n",
    "# Make DataFrame\n",
    "results_df = pd.DataFrame(results).sort_values(\"RMSE\").reset_index(drop=True)\n",
    "\n",
    "print(\"\\n=== Final Test Results ===\")\n",
    "print(results_df)"
   ]
  },
  {
   "cell_type": "code",
   "execution_count": 86,
   "id": "c2185208",
   "metadata": {},
   "outputs": [
    {
     "name": "stdout",
     "output_type": "stream",
     "text": [
      "\n",
      "Best overall model: XGBoost\n",
      "Best parameters: {'regressor__learning_rate': 0.1, 'regressor__max_depth': 6}\n"
     ]
    }
   ],
   "source": [
    "best_row = results_df.iloc[0]\n",
    "best_model_name = best_row[\"Model\"]\n",
    "best_model = best_models[best_model_name].best_estimator_\n",
    "print(f\"\\nBest overall model: {best_model_name}\")\n",
    "print(\"Best parameters:\", best_models[best_model_name].best_params_)"
   ]
  },
  {
   "cell_type": "code",
   "execution_count": 87,
   "id": "85b5a3e1",
   "metadata": {},
   "outputs": [
    {
     "name": "stdout",
     "output_type": "stream",
     "text": [
      "\n",
      "RMSE Improvement: 54.32% over baseline\n"
     ]
    }
   ],
   "source": [
    "baseline_rmse = 180000   # <-- replace with value from original notebook\n",
    "final_rmse = best_row[\"RMSE\"]\n",
    "\n",
    "improvement = (baseline_rmse - final_rmse) / baseline_rmse * 100\n",
    "print(f\"\\nRMSE Improvement: {improvement:.2f}% over baseline\")"
   ]
  },
  {
   "cell_type": "code",
   "execution_count": 88,
   "id": "1f835bca",
   "metadata": {},
   "outputs": [
    {
     "data": {
      "image/png": "[encoded data removed]",
      "text/plain": [
       "<Figure size 640x480 with 1 Axes>"
      ]
     },
     "metadata": {},
     "output_type": "display_data"
    }
   ],
   "source": [
    "plt.bar([\"Baseline\", best_model_name], [baseline_rmse, final_rmse], color=[\"gray\", \"green\"])\n",
    "plt.ylabel(\"RMSE\")\n",
    "plt.title(\"RMSE Comparison\")\n",
    "plt.show()"
   ]
  },
  {
   "cell_type": "code",
   "execution_count": 101,
   "id": "affcc17b",
   "metadata": {},
   "outputs": [
    {
     "name": "stdout",
     "output_type": "stream",
     "text": [
      "Top 5 Features:\n",
      "          feature  importance\n",
      "94          grade       0.037\n",
      "10  zipcode_98004       0.036\n",
      "20  zipcode_98023       0.034\n",
      "33  zipcode_98042       0.033\n",
      "7   zipcode_98001       0.032\n"
     ]
    }
   ],
   "source": [
    "# Get all feature names from pipeline\n",
    "all_ohe_features = ohe.get_feature_names_out(categorical_features)\n",
    "num_features = numerical_features\n",
    "pass_features = passthrough_features\n",
    "feature_names = list(num_features) + list(all_ohe_features) + list(pass_features)\n",
    "\n",
    "# Extract importances from the regressor\n",
    "importances = best_model.named_steps[\"regressor\"].feature_importances_\n",
    "\n",
    "# Create DataFrame\n",
    "feat_imp = pd.DataFrame({\"feature\": feature_names, \"importance\": importances})\n",
    "\n",
    "# Sort & take top 5\n",
    "top5 = feat_imp.sort_values(\"importance\", ascending=False).head(5)\n",
    "\n",
    "# Print top 5\n",
    "print(\"Top 5 Features:\")\n",
    "print(top5)\n"
   ]
  },
  {
   "cell_type": "code",
   "execution_count": 99,
   "id": "590bffa0",
   "metadata": {},
   "outputs": [
    {
     "data": {
      "image/png": "[encoded data removed]",
      "text/plain": [
       "<Figure size 800x600 with 1 Axes>"
      ]
     },
     "metadata": {},
     "output_type": "display_data"
    },
    {
     "name": "stdout",
     "output_type": "stream",
     "text": [
      "\n",
      "Top 5 Zipcode Features:\n",
      "          feature  importance\n",
      "10  zipcode_98004       0.036\n",
      "20  zipcode_98023       0.034\n",
      "33  zipcode_98042       0.033\n",
      "7   zipcode_98001       0.032\n",
      "47  zipcode_98092       0.031\n"
     ]
    }
   ],
   "source": [
    "# Get all features correctly\n",
    "all_ohe_features = ohe.get_feature_names_out(categorical_features)\n",
    "num_features = numerical_features\n",
    "pass_features = passthrough_features\n",
    "feature_names = list(num_features) + list(all_ohe_features) + list(pass_features)\n",
    "\n",
    "# Build full feature importance DataFrame\n",
    "importances = best_model.named_steps[\"regressor\"].feature_importances_\n",
    "feat_imp = pd.DataFrame({\"feature\": feature_names, \"importance\": importances})\n",
    "\n",
    "# Filter only zipcode features\n",
    "zipcode_imp = feat_imp[feat_imp[\"feature\"].str.startswith(\"zipcode_\")]\n",
    "\n",
    "# Sort & keep top 10\n",
    "zipcode_imp = zipcode_imp.sort_values(\"importance\", ascending=False).head(10)\n",
    "\n",
    "# Plot only zipcodes\n",
    "plt.figure(figsize=(8, 6))\n",
    "plt.barh(zipcode_imp[\"feature\"], zipcode_imp[\"importance\"])\n",
    "plt.gca().invert_yaxis()\n",
    "plt.title(f\"Top 10 Zipcode Feature Importances ({best_model_name})\")\n",
    "plt.show()\n",
    "\n",
    "print(\"\\nTop 5 Zipcode Features:\")\n",
    "print(zipcode_imp.head(5))\n"
   ]
  },
  {
   "cell_type": "markdown",
   "id": "85fe3f48",
   "metadata": {},
   "source": [
    "These results make sense: grade reflects property quality, while zipcodes dominate, showing that location is one of the most important predictors of housing prices."
   ]
  }
 ],
 "metadata": {
  "kernelspec": {
   "display_name": "my-aman",
   "language": "python",
   "name": "python3"
  },
  "language_info": {
   "codemirror_mode": {
    "name": "ipython",
    "version": 3
   },
   "file_extension": ".py",
   "mimetype": "text/x-python",
   "name": "python",
   "nbconvert_exporter": "python",
   "pygments_lexer": "ipython3",
   "version": "3.11.5"
  }
 },
 "nbformat": 4,
 "nbformat_minor": 5
}
